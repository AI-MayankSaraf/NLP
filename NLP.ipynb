{
 "cells": [
  {
   "cell_type": "code",
   "execution_count": 1,
   "id": "c436e49c-0728-4661-a989-36efefb67d0b",
   "metadata": {},
   "outputs": [
    {
     "name": "stdout",
     "output_type": "stream",
     "text": [
      "['Natural', 'Language', 'Processing', 'is', 'fascinating', '.', 'It', 'helps', 'computers', 'understand', 'human', 'language', '.']\n",
      "['Natural Language Processing is fascinating.', 'It helps computers understand human language.']\n"
     ]
    }
   ],
   "source": [
    "# Tokenization\n",
    "from nltk.tokenize import word_tokenize, sent_tokenize\n",
    "\n",
    "text = \"Natural Language Processing is fascinating. It helps computers understand human language.\"\n",
    "words = word_tokenize(text)\n",
    "sentences = sent_tokenize(text)\n",
    "\n",
    "print(words)        # ['Natural', 'Language', 'Processing', 'is', 'fascinating', '.', 'It', 'helps', 'computers', 'understand', 'human', 'language', '.']\n",
    "print(sentences)    # ['Natural Language Processing is fascinating.', 'It helps computers understand human language.']"
   ]
  },
  {
   "cell_type": "code",
   "execution_count": 2,
   "id": "8a299083-f760-4de7-b1c8-7d8009aeb41c",
   "metadata": {},
   "outputs": [
    {
     "name": "stdout",
     "output_type": "stream",
     "text": [
      "['Natural', 'Language', 'Processing', 'fascinating', '.', 'helps', 'computers', 'understand', 'human', 'language', '.']\n"
     ]
    }
   ],
   "source": [
    "# Stop Words Removal\n",
    "from nltk.corpus import stopwords\n",
    "\n",
    "stop_words = set(stopwords.words('english'))\n",
    "filtered_words = [word for word in words if word.lower() not in stop_words]\n",
    "\n",
    "print(filtered_words)   # ['Natural', 'Language', 'Processing', 'fascinating', '.', 'helps', 'computers', 'understand', 'human', 'language', '.']\n"
   ]
  },
  {
   "cell_type": "code",
   "execution_count": 3,
   "id": "bf83cf80-5e07-43bf-8bef-7acf532c21a6",
   "metadata": {},
   "outputs": [
    {
     "name": "stdout",
     "output_type": "stream",
     "text": [
      "run\n",
      "good\n"
     ]
    }
   ],
   "source": [
    "# Stemming and Lemmatization\n",
    "from nltk.stem import PorterStemmer, WordNetLemmatizer\n",
    "\n",
    "stemmer = PorterStemmer()\n",
    "lemmatizer = WordNetLemmatizer()\n",
    "\n",
    "print(stemmer.stem(\"running\"))     # 'run'\n",
    "print(lemmatizer.lemmatize(\"better\", pos=\"a\"))  # 'good'"
   ]
  },
  {
   "cell_type": "code",
   "execution_count": 4,
   "id": "f0c91379-822d-4fed-9810-46eb9bbca0a5",
   "metadata": {},
   "outputs": [
    {
     "name": "stdout",
     "output_type": "stream",
     "text": [
      "[('Natural', 'JJ'), ('Language', 'NNP'), ('Processing', 'NNP'), ('is', 'VBZ'), ('fascinating', 'VBG'), ('.', '.'), ('It', 'PRP'), ('helps', 'VBZ'), ('computers', 'NNS'), ('understand', 'VBP'), ('human', 'JJ'), ('language', 'NN'), ('.', '.')]\n"
     ]
    }
   ],
   "source": [
    "# Part-of-Speech (POS) Tagging\n",
    "from nltk import pos_tag\n",
    "tagged_words = pos_tag(words)\n",
    "print(tagged_words)   # [('Natural', 'JJ'), ('Language', 'NN'), ('Processing', 'NN'), ('is', 'VBZ'), ('fascinating', 'JJ'), ('.', '.'), ...]"
   ]
  },
  {
   "cell_type": "code",
   "execution_count": 5,
   "id": "f4ae8b1d-6474-4837-b140-2a58c7f9f7fd",
   "metadata": {},
   "outputs": [
    {
     "name": "stdout",
     "output_type": "stream",
     "text": [
      "(S\n",
      "  Natural/JJ\n",
      "  Language/NNP\n",
      "  Processing/NNP\n",
      "  is/VBZ\n",
      "  fascinating/VBG\n",
      "  ./.\n",
      "  It/PRP\n",
      "  helps/VBZ\n",
      "  computers/NNS\n",
      "  understand/VBP\n",
      "  human/JJ\n",
      "  language/NN\n",
      "  ./.)\n"
     ]
    }
   ],
   "source": [
    "# Named Entity Recognition (NER)\n",
    "from nltk import ne_chunk\n",
    "named_entities = ne_chunk(tagged_words)\n",
    "print(named_entities)"
   ]
  },
  {
   "cell_type": "code",
   "execution_count": 6,
   "id": "08c5c03b-e6ce-4aba-a069-5922f508853b",
   "metadata": {},
   "outputs": [
    {
     "name": "stdout",
     "output_type": "stream",
     "text": [
      "a machine for performing calculations automatically\n"
     ]
    }
   ],
   "source": [
    "# WordNet Interface\n",
    "from nltk.corpus import wordnet\n",
    "synonyms = wordnet.synsets(\"computer\")\n",
    "print(synonyms[0].definition())    # 'a machine for performing calculations automatically'"
   ]
  },
  {
   "cell_type": "code",
   "execution_count": null,
   "id": "1dc2a4e2-de58-4f9b-8bd8-fe1d5ba0956b",
   "metadata": {},
   "outputs": [],
   "source": []
  }
 ],
 "metadata": {
  "kernelspec": {
   "display_name": "Python 3 (ipykernel)",
   "language": "python",
   "name": "python3"
  },
  "language_info": {
   "codemirror_mode": {
    "name": "ipython",
    "version": 3
   },
   "file_extension": ".py",
   "mimetype": "text/x-python",
   "name": "python",
   "nbconvert_exporter": "python",
   "pygments_lexer": "ipython3",
   "version": "3.12.4"
  }
 },
 "nbformat": 4,
 "nbformat_minor": 5
}
